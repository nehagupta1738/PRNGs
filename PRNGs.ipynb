{
  "nbformat": 4,
  "nbformat_minor": 0,
  "metadata": {
    "colab": {
      "name": "PRNGs.ipynb",
      "provenance": []
    },
    "kernelspec": {
      "name": "python3",
      "display_name": "Python 3"
    },
    "language_info": {
      "name": "python"
    }
  },
  "cells": [
    {
      "cell_type": "code",
      "execution_count": 1,
      "metadata": {
        "id": "cEkgqXL4YOky"
      },
      "outputs": [],
      "source": [
        "import math\n",
        "import statistics"
      ]
    },
    {
      "cell_type": "code",
      "source": [
        "print(\"The formula is: X(k+1) = a * Xk + c mod m\")\n",
        "seed_num = 12\n",
        "multiplier = 3\n",
        "increment = 3\n",
        "modulus = 5\n",
        "unit = 100\n",
        "\n",
        "# linear congruent generator\n",
        "def lcg():\n",
        "    lcg_random = []\n",
        "    num_base = seed_num\n",
        "    for i in range(unit, 0, -1):\n",
        "        rd = (multiplier * num_base + increment) % modulus\n",
        "#         print(rd)\n",
        "        lcg_random.append(rd)\n",
        "        num_base = rd\n",
        "        \n",
        "    return lcg_random"
      ],
      "metadata": {
        "colab": {
          "base_uri": "https://localhost:8080/"
        },
        "id": "Y1xF7cEzYQPp",
        "outputId": "e6a46bc4-39b2-425a-9299-24937ad025c2"
      },
      "execution_count": 2,
      "outputs": [
        {
          "output_type": "stream",
          "name": "stdout",
          "text": [
            "The formula is: X(k+1) = a * Xk + c mod m\n"
          ]
        }
      ]
    },
    {
      "cell_type": "code",
      "source": [
        "lcg_random = lcg()"
      ],
      "metadata": {
        "id": "phtrFePqYTXU"
      },
      "execution_count": 3,
      "outputs": []
    },
    {
      "cell_type": "code",
      "source": [
        "import sys\n",
        "\n",
        "j = 7\n",
        "k = 10\n",
        "modval = 5\n",
        "\n",
        "seed = \"155785692479641\"\n",
        "\n",
        "unit = 100\n",
        "\n",
        "def strtodigit(val):\n",
        "    arr = []\n",
        "    for i in range(len(val)):\n",
        "        arr.append(int(val[i]))\n",
        "    return arr\n",
        "\n",
        "\n",
        "s = strtodigit(seed)\n",
        "\n",
        "\n",
        "\n",
        "def laggedfibgen():\n",
        "    slen = len(s)\n",
        "    lfg = []\n",
        "    for n in range(1000):\n",
        "        out = (s[slen - j-1] + s[slen - k - 1]) % modval\n",
        "        for i in range(len(s)-1):\n",
        "            s[i] = s[i+1] \n",
        "        s[slen-1] = out\n",
        "        lfg.append(out)\n",
        "    return lfg"
      ],
      "metadata": {
        "id": "-1vqyrsqYWHo"
      },
      "execution_count": 4,
      "outputs": []
    },
    {
      "cell_type": "code",
      "source": [
        "lfg_random = laggedfibgen()"
      ],
      "metadata": {
        "id": "0suDjUquYa_R"
      },
      "execution_count": 5,
      "outputs": []
    },
    {
      "cell_type": "code",
      "source": [
        "#runs test of randomness\n",
        "def runsTest(l, l_median):\n",
        "  \n",
        "    runs, n1, n2 = 0, 0, 0\n",
        "      \n",
        "    # Checking for start of new run\n",
        "    for i in range(len(l)):\n",
        "          \n",
        "        # no. of runs\n",
        "        if (l[i] >= l_median and l[i-1] < l_median) or \\\n",
        "                (l[i] < l_median and l[i-1] >= l_median):\n",
        "            runs += 1  \n",
        "          \n",
        "        # no. of positive values\n",
        "        if(l[i]) >= l_median:\n",
        "            n1 += 1   \n",
        "          \n",
        "        # no. of negative values\n",
        "        else:\n",
        "            n2 += 1   \n",
        "  \n",
        "    runs_exp = ((2*n1*n2)/(n1+n2))+1\n",
        "    stan_dev = math.sqrt((2*n1*n2*(2*n1*n2-n1-n2))/ \\\n",
        "                       (((n1+n2)**2)*(n1+n2-1)))\n",
        "  \n",
        "    z = (runs-runs_exp)/stan_dev\n",
        "  \n",
        "    return z"
      ],
      "metadata": {
        "id": "G46Bf6FAYdtv"
      },
      "execution_count": 6,
      "outputs": []
    },
    {
      "cell_type": "code",
      "source": [
        "\"\"\"(Zcritical =1.96 for confidence level of 95%) . \n",
        "The null hypothesis is rejected i.e. the numbers are \n",
        "declared not to be random, if |Z|>Zcritical . \"\"\"\n",
        "lfg_random = [float(i)/max(lfg_random) for i in lfg_random]\n",
        "lcg_random = [float(i)/max(lcg_random) for i in lcg_random]\n",
        "l_median= statistics.median(lfg_random)\n",
        "Z = abs(runsTest(lfg_random, l_median))\n",
        "print(\"Zcritical = 1.96\")\n",
        "print('Lagged fib random number Z-statistic = ', Z)\n",
        "\n",
        "l_median= statistics.median(lcg_random)\n",
        "Z = abs(runsTest(lcg_random, l_median))\n",
        "print('linear congruent generator random number Z-statistic = ', Z)"
      ],
      "metadata": {
        "colab": {
          "base_uri": "https://localhost:8080/"
        },
        "id": "XhgUYs-2YhAr",
        "outputId": "f6875b97-ce64-4f92-cb4e-418984138a1e"
      },
      "execution_count": 7,
      "outputs": [
        {
          "output_type": "stream",
          "name": "stdout",
          "text": [
            "Zcritical = 1.96\n",
            "Lagged fib random number Z-statistic =  0.4873316857973091\n",
            "linear congruent generator random number Z-statistic =  9.849873095629203\n"
          ]
        }
      ]
    },
    {
      "cell_type": "code",
      "source": [
        "def kstest1(arr_1):\n",
        "    arr_1 = [float(i)/max(arr_1) for i in arr_1]\n",
        "    from scipy.stats import kstest\n",
        "    x = kstest(arr_1, \"uniform\")\n",
        "#     print(x)\n",
        "    return x\n"
      ],
      "metadata": {
        "id": "2BJnR8CjYkhr"
      },
      "execution_count": 8,
      "outputs": []
    },
    {
      "cell_type": "code",
      "source": [
        "Z = kstest1(lfg_random)\n",
        "# print(\"D 95% confifdence critical = \", 1.36/10)\n",
        "print('Lagged fib gen = ', Z)\n",
        "\n",
        "Z = kstest1(lcg_random)\n",
        "print('linear congruent generator ', Z)"
      ],
      "metadata": {
        "colab": {
          "base_uri": "https://localhost:8080/"
        },
        "id": "rdhUdYTfYoRx",
        "outputId": "ce006f34-71a2-46a9-c137-5aa93207b6f9"
      },
      "execution_count": 9,
      "outputs": [
        {
          "output_type": "stream",
          "name": "stdout",
          "text": [
            "Lagged fib gen =  KstestResult(statistic=0.21899999999999997, pvalue=1.3553365394228715e-42)\n",
            "linear congruent generator  KstestResult(statistic=0.25, pvalue=5.408871776434847e-06)\n"
          ]
        }
      ]
    }
  ]
}